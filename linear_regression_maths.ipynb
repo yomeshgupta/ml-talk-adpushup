{
 "cells": [
  {
   "cell_type": "code",
   "execution_count": 1,
   "metadata": {
    "collapsed": true
   },
   "outputs": [],
   "source": [
    "import numpy as np\n",
    "import pandas as pd\n",
    "from sklearn.model_selection import train_test_split\n",
    "from pylab import plot, show, xlabel, ylabel"
   ]
  },
  {
   "cell_type": "code",
   "execution_count": 27,
   "metadata": {
    "collapsed": true
   },
   "outputs": [],
   "source": [
    "def get_data():\n",
    "    # load data\n",
    "    df = pd.read_csv('http://www-bcf.usc.edu/~gareth/ISL/Advertising.csv', index_col=0)\n",
    "    print(df.head())\n",
    "    data = df.as_matrix()\n",
    "    print(\"Total Records : \", data.shape)\n",
    "\n",
    "    # features\n",
    "    X = data[:,:-1]\n",
    "    # outputs\n",
    "    y = data[:,-1:]\n",
    "\n",
    "    noOfFeatures = X.shape[1]\n",
    "\n",
    "    X_train, X_test, y_train, y_test = train_test_split(X, y, train_size=0.85, random_state=0)\n",
    "\n",
    "    return X_train, y_train, X_test, y_test, noOfFeatures"
   ]
  },
  {
   "cell_type": "code",
   "execution_count": 28,
   "metadata": {},
   "outputs": [
    {
     "name": "stdout",
     "output_type": "stream",
     "text": [
      "      TV  Radio  Newspaper  Sales\n",
      "1  230.1   37.8       69.2   22.1\n",
      "2   44.5   39.3       45.1   10.4\n",
      "3   17.2   45.9       69.3    9.3\n",
      "4  151.5   41.3       58.5   18.5\n",
      "5  180.8   10.8       58.4   12.9\n",
      "Total Records :  (200, 4)\n"
     ]
    }
   ],
   "source": [
    "X_train, y_train, X_test, y_test, noOfFeatures = get_data()"
   ]
  },
  {
   "cell_type": "code",
   "execution_count": 29,
   "metadata": {},
   "outputs": [
    {
     "name": "stdout",
     "output_type": "stream",
     "text": [
      "(170, 3)\n",
      "(170, 1)\n",
      "(30, 3)\n",
      "(30, 1)\n"
     ]
    }
   ],
   "source": [
    "print(X_train.shape)\n",
    "print(y_train.shape)\n",
    "print(X_test.shape)\n",
    "print(y_test.shape)"
   ]
  },
  {
   "cell_type": "markdown",
   "metadata": {},
   "source": [
    "#### What are the features?\n",
    "\n",
    "1. TV: advertising dollars spent on TV for a single product in a given market (in thousands of dollars)\n",
    "2. Radio: advertising dollars spent on Radio\n",
    "3. Newspaper: advertising dollars spent on Newspaper\n",
    "\n",
    "#### What is the response?\n",
    "\n",
    "4. Sales: sales of a single product in a given market (in thousands of items)\n",
    "\n",
    "#### What else do we know?\n",
    "\n",
    "5. Because the response variable is continuous, this is a **regression** problem.\n",
    "6. There are 200 observations (represented by the rows), and each observation is a single market."
   ]
  },
  {
   "cell_type": "markdown",
   "metadata": {},
   "source": [
    "### Linear regression\n",
    "\n",
    "**Pros**: fast, no tuning required, highly interpretable, well-understood\n",
    "\n",
    "**Cons**: unlikely to produce the best predictive accuracy (presumes a linear relationship between the features and response)\n",
    "\n",
    "### Form of linear regression\n",
    "\n",
    "$h_\\theta(x) = \\theta_0x_0 + \\theta_1x_1 + \\theta_2x_2 + \\theta_3x_3 + ... + \\theta_nx_n$\n",
    "\n",
    "where $x_0 = 1$\n",
    "\n",
    "$\\theta = [\\theta_0, \\theta_1, \\theta_2, \\theta_3, ..., \\theta_n] ∊ R^{n+1}$\n",
    "\n",
    "$X = [x_0, x_1, x_2, x_3, ..., x_n] ∊ R^{n+1}$\n",
    "\n",
    "$h_\\theta(x) = \\theta^TX$\n",
    "\n",
    "### Idea\n",
    "\n",
    "Compute/Choose $\\theta$(s) so that $h_\\theta(x)$ is close to $y$ for $(x, y)$"
   ]
  },
  {
   "cell_type": "code",
   "execution_count": 36,
   "metadata": {},
   "outputs": [
    {
     "data": {
      "text/plain": [
       "array([ 69.2,  20.5,  18.3])"
      ]
     },
     "execution_count": 36,
     "metadata": {},
     "output_type": "execute_result"
    }
   ],
   "source": [
    "X_test[0]"
   ]
  },
  {
   "cell_type": "code",
   "execution_count": 37,
   "metadata": {},
   "outputs": [
    {
     "data": {
      "text/plain": [
       "array([ 11.3])"
      ]
     },
     "execution_count": 37,
     "metadata": {},
     "output_type": "execute_result"
    }
   ],
   "source": [
    "y_test[0]"
   ]
  },
  {
   "cell_type": "code",
   "execution_count": 39,
   "metadata": {
    "collapsed": true
   },
   "outputs": [],
   "source": [
    "def featureNormalize(X):\n",
    "    mean_r = []\n",
    "    std_r = []\n",
    "\n",
    "    X_norm = X\n",
    "    n_c = X.shape[1]\n",
    "    for i in range(n_c):\n",
    "        meanOfCurrentFeatureInX = np.mean(X[:, i])\n",
    "        stdOfCurrentFeatureInX = np.std(X[:, i])\n",
    "        mean_r.append(meanOfCurrentFeatureInX)\n",
    "        std_r.append(stdOfCurrentFeatureInX)\n",
    "        if (stdOfCurrentFeatureInX == 0.0 or stdOfCurrentFeatureInX == 0):\n",
    "            X_norm[:, i] = X_norm[:, i]\n",
    "        else:\n",
    "            X_norm[:, i] = (X_norm[:, i] - meanOfCurrentFeatureInX) / stdOfCurrentFeatureInX\n",
    "\n",
    "    return X_norm, mean_r, std_r"
   ]
  },
  {
   "cell_type": "code",
   "execution_count": 52,
   "metadata": {
    "collapsed": true
   },
   "outputs": [],
   "source": [
    "X_train_norm, mu, sigma = featureNormalize(X_train)\n",
    "X_test_norm, test_mu, test_sigma = featureNormalize(X_test)"
   ]
  },
  {
   "cell_type": "code",
   "execution_count": 53,
   "metadata": {},
   "outputs": [
    {
     "data": {
      "text/plain": [
       "array([-0.82426665, -0.11179617, -0.45368815])"
      ]
     },
     "execution_count": 53,
     "metadata": {},
     "output_type": "execute_result"
    }
   ],
   "source": [
    "X_test_norm[0]"
   ]
  },
  {
   "cell_type": "code",
   "execution_count": 54,
   "metadata": {
    "collapsed": true
   },
   "outputs": [],
   "source": [
    "theta = np.matrix(np.zeros((noOfFeatures + 1, 1), dtype=np.float))"
   ]
  },
  {
   "cell_type": "code",
   "execution_count": 55,
   "metadata": {},
   "outputs": [
    {
     "data": {
      "text/plain": [
       "(4, 1)"
      ]
     },
     "execution_count": 55,
     "metadata": {},
     "output_type": "execute_result"
    }
   ],
   "source": [
    "theta.shape"
   ]
  },
  {
   "cell_type": "code",
   "execution_count": 56,
   "metadata": {},
   "outputs": [
    {
     "data": {
      "text/plain": [
       "matrix([[ 0.]])"
      ]
     },
     "execution_count": 56,
     "metadata": {},
     "output_type": "execute_result"
    }
   ],
   "source": [
    "theta[0]"
   ]
  },
  {
   "cell_type": "code",
   "execution_count": 57,
   "metadata": {},
   "outputs": [
    {
     "data": {
      "text/plain": [
       "(170, 4)"
      ]
     },
     "execution_count": 57,
     "metadata": {},
     "output_type": "execute_result"
    }
   ],
   "source": [
    "# Adding intercept term to X\n",
    "X_train_norm = np.column_stack((np.ones(len(X_train_norm), dtype=np.float), X_train_norm))\n",
    "X_test_norm = np.column_stack((np.ones(len(X_test_norm), dtype=np.float), X_test_norm))\n",
    "\n",
    "X_train_norm.shape"
   ]
  },
  {
   "cell_type": "code",
   "execution_count": 58,
   "metadata": {},
   "outputs": [
    {
     "data": {
      "text/plain": [
       "array([ 1.        , -0.94089378,  0.89442454,  3.76375893])"
      ]
     },
     "execution_count": 58,
     "metadata": {},
     "output_type": "execute_result"
    }
   ],
   "source": [
    "X_train_norm[0]"
   ]
  },
  {
   "cell_type": "markdown",
   "metadata": {},
   "source": [
    "### Cost Function / Sum of Squared Errors\n",
    "\n",
    "$J(\\theta) = \\frac{1}{(2m)} \\sum_{i=1}^m (h(\\theta)^i - y^i)^2$ "
   ]
  },
  {
   "cell_type": "code",
   "execution_count": 59,
   "metadata": {
    "collapsed": true
   },
   "outputs": [],
   "source": [
    "def computeCost(X, y, theta):\n",
    "    m = y.shape[0]\n",
    "    predictions = X.dot(theta)\n",
    "    sqErrors = (predictions - y)\n",
    "    J = (1.0 / (2 * m)) * sqErrors.T.dot(sqErrors)\n",
    "    return J"
   ]
  },
  {
   "cell_type": "markdown",
   "metadata": {},
   "source": [
    "### Gradient Descent\n",
    "\n",
    "$\\theta_j = \\theta_j - \\alpha \\frac{\\partial}{\\partial\\theta_j} J(\\theta)$\n",
    "\n",
    "$\\theta_j = \\theta_j - \\alpha \\frac{1}{m} \\sum_{i=1}^m (h_\\theta(x^i) - y^i) \\space x_j^i$"
   ]
  },
  {
   "cell_type": "markdown",
   "metadata": {},
   "source": [
    "<img src=\"./grad_desc.png\" />"
   ]
  },
  {
   "cell_type": "markdown",
   "metadata": {},
   "source": [
    "<img src=\"./grad_desc_1.png\" />"
   ]
  },
  {
   "cell_type": "markdown",
   "metadata": {},
   "source": [
    "<img src=\"./grad_desc_2.png\" />"
   ]
  },
  {
   "cell_type": "code",
   "execution_count": 61,
   "metadata": {},
   "outputs": [],
   "source": [
    "def gradientDescent(X, y, theta, alpha, num_iters):\n",
    "    cost = np.zeros(num_iters, dtype=float)\n",
    "    m = len(X)\n",
    "\n",
    "    for i in range(num_iters):\n",
    "        error = (X * theta) - y\n",
    "        newDecrement = (alpha * (1/m) * np.dot(error.T, X))\n",
    "        theta = theta - newDecrement.T\n",
    "\n",
    "        cost[i] = computeCost(X, y, theta)\n",
    "\n",
    "    return theta, cost"
   ]
  },
  {
   "cell_type": "code",
   "execution_count": 63,
   "metadata": {
    "collapsed": true
   },
   "outputs": [],
   "source": [
    "def predict(inputVector, theta):\n",
    "    return np.dot(inputVector, theta.T)\n",
    "\n",
    "def plot2DGraph(x, y, xLabel, yLabel):\n",
    "    plot(np.arange(x), y)\n",
    "    xlabel(xLabel)\n",
    "    ylabel(yLabel)\n",
    "    return show()"
   ]
  },
  {
   "cell_type": "code",
   "execution_count": 65,
   "metadata": {},
   "outputs": [],
   "source": [
    "alpha = 0.01\n",
    "num_iters = 400\n",
    "\n",
    "# perform linear regression on the data set\n",
    "computed_theta, J_history = gradientDescent(X_train_norm, y_train, theta, alpha, num_iters)"
   ]
  },
  {
   "cell_type": "code",
   "execution_count": 66,
   "metadata": {},
   "outputs": [
    {
     "data": {
      "text/plain": [
       "matrix([[ 13.89080059],\n",
       "        [  3.73854394],\n",
       "        [  2.80374197],\n",
       "        [  0.04208094]])"
      ]
     },
     "execution_count": 66,
     "metadata": {},
     "output_type": "execute_result"
    }
   ],
   "source": [
    "computed_theta"
   ]
  },
  {
   "cell_type": "code",
   "execution_count": 68,
   "metadata": {},
   "outputs": [
    {
     "data": {
      "image/png": "[encoded data removed]",
      "text/plain": [
       "<matplotlib.figure.Figure at 0x152e020cac8>"
      ]
     },
     "metadata": {},
     "output_type": "display_data"
    }
   ],
   "source": [
    "plot2DGraph(num_iters, J_history, 'Iterations', 'Cost Function')"
   ]
  },
  {
   "cell_type": "code",
   "execution_count": 70,
   "metadata": {},
   "outputs": [
    {
     "data": {
      "text/plain": [
       "matrix([[ 1.2230339]])"
      ]
     },
     "execution_count": 70,
     "metadata": {},
     "output_type": "execute_result"
    }
   ],
   "source": [
    "# get the cost (error) of the model\n",
    "cost = computeCost(X_train_norm, y_train, computed_theta)\n",
    "cost"
   ]
  },
  {
   "cell_type": "code",
   "execution_count": 71,
   "metadata": {},
   "outputs": [
    {
     "name": "stdout",
     "output_type": "stream",
     "text": [
      "[[ 11.3]\n",
      " [  8.4]\n",
      " [  8.7]\n",
      " [ 25.4]\n",
      " [ 11.7]]\n",
      "[[ 10.47670425]\n",
      " [  8.00453451]\n",
      " [  7.73444121]\n",
      " [ 24.25857534]\n",
      " [ 12.6512422 ]]\n"
     ]
    }
   ],
   "source": [
    "predict = np.dot(X_test_norm, computed_theta)\n",
    "\n",
    "print(y_test[0:5])\n",
    "print(predict[0:5])"
   ]
  },
  {
   "cell_type": "markdown",
   "metadata": {},
   "source": [
    "#### End -- Congratulations on taking your first step in Machine Learning -- Thank you"
   ]
  },
  {
   "cell_type": "code",
   "execution_count": null,
   "metadata": {
    "collapsed": true
   },
   "outputs": [],
   "source": []
  }
 ],
 "metadata": {
  "kernelspec": {
   "display_name": "Python 3",
   "language": "python",
   "name": "python3"
  },
  "language_info": {
   "codemirror_mode": {
    "name": "ipython",
    "version": 3
   },
   "file_extension": ".py",
   "mimetype": "text/x-python",
   "name": "python",
   "nbconvert_exporter": "python",
   "pygments_lexer": "ipython3",
   "version": "3.5.3"
  }
 },
 "nbformat": 4,
 "nbformat_minor": 2
}
